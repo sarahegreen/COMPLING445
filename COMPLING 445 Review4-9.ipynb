{
 "cells": [
  {
   "cell_type": "markdown",
   "metadata": {},
   "source": [
    "# COMP/LING 445/645"
   ]
  },
  {
   "cell_type": "markdown",
   "metadata": {},
   "source": [
    "# 5, 6 - Formal Languages:\n",
    "\n",
    "We want to built a computational model for language with some sort of system of grammaticality. \n",
    "\n",
    "We wish to denote what is in or out of our language!\n",
    "\n",
    "Remember Basic Set Theory. A **formal language** is described by an Alphabet, or in this class, denoted as a **Vocabulary**. Formal Languages are closed under **Union**, and **Power Set**. The prof introduces Intersection and Difference but that doesn't necessarily imply clojure (HAH)."
   ]
  },
  {
   "cell_type": "code",
   "execution_count": 56,
   "metadata": {},
   "outputs": [
    {
     "data": {
      "text/plain": [
       "#'user/prefix?"
      ]
     },
     "execution_count": 56,
     "metadata": {},
     "output_type": "execute_result"
    }
   ],
   "source": [
    "(defn prefix? [pr str]\n",
    "  (if (> (count pr) (count str))\n",
    "    false\n",
    "    (if (empty? pr)\n",
    "      true\n",
    "      (if (= (first pr) (first str))\n",
    "        (prefix? (rest pr) (rest str))\n",
    "        false))))"
   ]
  },
  {
   "cell_type": "code",
   "execution_count": 57,
   "metadata": {},
   "outputs": [
    {
     "data": {
      "text/plain": [
       "false"
      ]
     },
     "execution_count": 57,
     "metadata": {},
     "output_type": "execute_result"
    }
   ],
   "source": [
    "(prefix? '(a b c) '(a b))"
   ]
  },
  {
   "cell_type": "markdown",
   "metadata": {},
   "source": [
    "In out observations, natural languages are not necesarily finite. In class we proved that the finite class _FIN_ was not able to model the recursive nature of some languages, due to it being closed _under homomorphism_. We need to be able to build a model which can accomadate the unbounded recursive quality natural language may have."
   ]
  },
  {
   "cell_type": "markdown",
   "metadata": {},
   "source": [
    "# 7 - Infinite Languages\n",
    "\n",
    "Generators and recognisers are ways to model languges sans probability. These are good for yes/no inclusions of examples of our languge. While samplers and scorers allow for probabilistic based modelling. \n",
    "\n",
    "\n",
    "## Language Recognisers\n"
   ]
  },
  {
   "cell_type": "code",
   "execution_count": 58,
   "metadata": {},
   "outputs": [
    {
     "data": {
      "text/plain": [
       "#'user/lang-ab*?"
      ]
     },
     "execution_count": 58,
     "metadata": {},
     "output_type": "execute_result"
    }
   ],
   "source": [
    "(defn lang-ab*? [str]\n",
    "  (if (empty? str)\n",
    "    true\n",
    "    (if (prefix? '(a b) str)\n",
    "      (lang-ab*? (rest (rest str)))\n",
    "      false)))\n"
   ]
  },
  {
   "cell_type": "code",
   "execution_count": 59,
   "metadata": {},
   "outputs": [
    {
     "data": {
      "text/plain": [
       "false"
      ]
     },
     "execution_count": 59,
     "metadata": {},
     "output_type": "execute_result"
    }
   ],
   "source": [
    "(lang-ab*? '(ab))   "
   ]
  },
  {
   "cell_type": "code",
   "execution_count": 60,
   "metadata": {},
   "outputs": [
    {
     "data": {
      "text/plain": [
       "true"
      ]
     },
     "execution_count": 60,
     "metadata": {},
     "output_type": "execute_result"
    }
   ],
   "source": [
    "(lang-ab*? '(a b))"
   ]
  },
  {
   "cell_type": "code",
   "execution_count": 61,
   "metadata": {},
   "outputs": [
    {
     "data": {
      "text/plain": [
       "true"
      ]
     },
     "execution_count": 61,
     "metadata": {},
     "output_type": "execute_result"
    }
   ],
   "source": [
    "(lang-ab*? '())"
   ]
  },
  {
   "cell_type": "markdown",
   "metadata": {},
   "source": [
    "## Language Generators\n",
    "\n",
    "Note that this cannot generate the **whole** set for the (ab)* star language, but provides a bijective mapping from all natural number to our language. "
   ]
  },
  {
   "cell_type": "code",
   "execution_count": 62,
   "metadata": {},
   "outputs": [
    {
     "data": {
      "text/plain": [
       "#'user/generate-abn"
      ]
     },
     "execution_count": 62,
     "metadata": {},
     "output_type": "execute_result"
    }
   ],
   "source": [
    "(defn generate-abn [n]\n",
    "    (if (= n 0)\n",
    "        '()\n",
    "        (concat '(a b) (generate-abn (- n 1)))))"
   ]
  },
  {
   "cell_type": "code",
   "execution_count": 63,
   "metadata": {},
   "outputs": [
    {
     "data": {
      "text/plain": [
       "(a b a b a b a b a b a b a b a b a b a b a b a b a b)"
      ]
     },
     "execution_count": 63,
     "metadata": {},
     "output_type": "execute_result"
    }
   ],
   "source": [
    "(generate-abn 13)"
   ]
  },
  {
   "cell_type": "markdown",
   "metadata": {},
   "source": [
    "## Generative models of language\n",
    "\n",
    "Uses generators as models of linguistic structure. The important thing is that we will try to define finite programs that characterize the set of possible English sentences"
   ]
  },
  {
   "cell_type": "markdown",
   "metadata": {},
   "source": [
    "# 8 - Distributions over languages\n",
    "\n",
    "We wish to implement more than just a yes no denomination for string being in our language. We would also like to model how common a string is in our language, or how likely it is to occur in some corpus. "
   ]
  },
  {
   "cell_type": "markdown",
   "metadata": {},
   "source": [
    "## Computational models of formal languages\n",
    "\n",
    "When a language is finite we can specify its probability distribution via a single probability vector $\\theta$\n",
    "\n",
    "However when a langugage is infinite we must define its probability through some corpus. We will be doing this through some _probabilistic generative model_. this is just a generator which samples based on some probability distribution"
   ]
  },
  {
   "cell_type": "code",
   "execution_count": 64,
   "metadata": {},
   "outputs": [
    {
     "data": {
      "text/plain": [
       "(a b a b a b a b a b a b a b a b a b a b a b a b a b a b a b a b a b a b a b a b a b a b a b a b a b a b)"
      ]
     },
     "execution_count": 64,
     "metadata": {},
     "output_type": "execute_result"
    }
   ],
   "source": [
    "(defn generate-ab* [n]\n",
    "  (if (= n 0)\n",
    "    '()\n",
    "    (concat '(a b) (generate-ab*  (- n 1)))))\n",
    "\n",
    "(generate-ab*  26)"
   ]
  },
  {
   "cell_type": "markdown",
   "metadata": {},
   "source": [
    "Note how this determines _(ab)*_ based on some non-deterministic value we specify. Lets do this now with a non-deterministic random choice: Let's say a coin flip"
   ]
  },
  {
   "cell_type": "code",
   "execution_count": 65,
   "metadata": {},
   "outputs": [
    {
     "data": {
      "text/plain": [
       "true"
      ]
     },
     "execution_count": 65,
     "metadata": {},
     "output_type": "execute_result"
    }
   ],
   "source": [
    "(defn coinflip []\n",
    "    (if (> (rand 1) 0.5)\n",
    "        true\n",
    "        false))\n",
    "\n",
    "(coinflip)"
   ]
  },
  {
   "cell_type": "code",
   "execution_count": 66,
   "metadata": {},
   "outputs": [
    {
     "data": {
      "text/plain": [
       "{true 499841, false 500159}"
      ]
     },
     "execution_count": 66,
     "metadata": {},
     "output_type": "execute_result"
    }
   ],
   "source": [
    "(frequencies (repeatedly 1000000 coinflip))"
   ]
  },
  {
   "cell_type": "markdown",
   "metadata": {},
   "source": [
    "Now lets use coinflip to sample non-negative numbers"
   ]
  },
  {
   "cell_type": "code",
   "execution_count": 67,
   "metadata": {},
   "outputs": [
    {
     "data": {
      "text/plain": [
       "2"
      ]
     },
     "execution_count": 67,
     "metadata": {},
     "output_type": "execute_result"
    }
   ],
   "source": [
    "(defn sample-flip []\n",
    "    (if (coinflip)\n",
    "        0\n",
    "        (+ 1 (sample-flip))))\n",
    "\n",
    "(sample-flip)"
   ]
  },
  {
   "cell_type": "code",
   "execution_count": 68,
   "metadata": {},
   "outputs": [
    {
     "data": {
      "text/plain": [
       "{0 499464, 7 3913, 1 250176, 4 31529, 15 12, 13 65, 6 7917, 17 3, 3 62463, 12 96, 2 124904, 19 1, 11 238, 9 969, 5 15786, 14 38, 16 6, 10 507, 8 1913}"
      ]
     },
     "execution_count": 68,
     "metadata": {},
     "output_type": "execute_result"
    }
   ],
   "source": [
    "(frequencies (repeatedly 1000000 sample-flip))"
   ]
  },
  {
   "cell_type": "markdown",
   "metadata": {},
   "source": [
    "Lets use this theta distribution to generate random samples for our language _(ab)*_"
   ]
  },
  {
   "cell_type": "code",
   "execution_count": 69,
   "metadata": {},
   "outputs": [
    {
     "data": {
      "text/plain": [
       "(a b a b)"
      ]
     },
     "execution_count": 69,
     "metadata": {},
     "output_type": "execute_result"
    }
   ],
   "source": [
    "(defn sample-ab* [] (generate-ab* (sample-flip)))\n",
    "(sample-ab*)"
   ]
  },
  {
   "cell_type": "code",
   "execution_count": 70,
   "metadata": {},
   "outputs": [
    {
     "data": {
      "text/plain": [
       "{(a b a b a b a b) 31194, (a b a b a b a b a b a b a b a b) 1916, (a b a b a b a b a b a b a b a b a b a b a b a b a b a b a b a b a b a b) 4, (a b a b a b a b a b a b a b a b a b a b a b a b) 133, (a b a b a b a b a b a b a b) 3981, (a b a b a b a b a b a b a b a b a b a b a b a b a b a b a b a b) 4, () 500166, (a b a b a b a b a b a b a b a b a b a b a b a b a b a b) 32, (a b a b a b a b a b a b a b a b a b a b a b a b a b a b a b a b a b a b a b a b a b) 1, (a b a b) 125076, (a b a b a b a b a b a b a b a b a b a b) 457, (a b a b a b a b a b a b a b a b a b a b a b a b a b) 63, (a b a b a b a b a b a b) 7852, (a b a b a b) 62464, (a b) 249796, (a b a b a b a b a b a b a b a b a b a b a b a b a b a b a b a b a b) 1, (a b a b a b a b a b a b a b a b a b) 939, (a b a b a b a b a b) 15669, (a b a b a b a b a b a b a b a b a b a b a b a b a b a b a b a b a b a b a b) 1, (a b a b a b a b a b a b a b a b a b a b a b a b a b a b a b) 9, (a b a b a b a b a b a b a b a b a b a b a b) 242}"
      ]
     },
     "execution_count": 70,
     "metadata": {},
     "output_type": "execute_result"
    }
   ],
   "source": [
    "(frequencies (repeatedly 1000000 sample-ab*))"
   ]
  },
  {
   "cell_type": "markdown",
   "metadata": {},
   "source": [
    "Note that this simple distribution is actually the geometric series! \n",
    "In this case q = 0.5\n",
    "Now let us introduce scorers, which will take in a string and output its probability based on the theta we defined above"
   ]
  },
  {
   "cell_type": "code",
   "execution_count": 71,
   "metadata": {},
   "outputs": [
    {
     "data": {
      "text/plain": [
       "0.125"
      ]
     },
     "execution_count": 71,
     "metadata": {},
     "output_type": "execute_result"
    }
   ],
   "source": [
    "(defn score-ab* [str]\n",
    "  (if (empty? str)\n",
    "    0.5\n",
    "    (if (prefix? '(a b) str)\n",
    "      (* 0.5 (score-ab* (rest (rest str))))\n",
    "      0)))\n",
    "\n",
    "(score-ab* '(a b a b))"
   ]
  },
  {
   "cell_type": "markdown",
   "metadata": {},
   "source": [
    "Note how this relation is just the inverse of sampling"
   ]
  },
  {
   "cell_type": "markdown",
   "metadata": {},
   "source": [
    "# 9 - Models and data"
   ]
  },
  {
   "cell_type": "markdown",
   "metadata": {},
   "source": [
    "With infinite languages it is impossible to generate a set of all posible sentences. so let us build a subset of our language (a corpus) based on frequencies of occurance. With these we can build models based on language, that with the probabilities, we can measure some metric to evaluate it based on _goodness of fit_ in relation to real life use of our language. \n",
    "\n",
    "Let us utilize our previously described sampler to generate a nice corpus"
   ]
  },
  {
   "cell_type": "code",
   "execution_count": 72,
   "metadata": {},
   "outputs": [
    {
     "data": {
      "text/plain": [
       "((a b a b) () () ())"
      ]
     },
     "execution_count": 72,
     "metadata": {},
     "output_type": "execute_result"
    }
   ],
   "source": [
    "(defn sample-corpus [generator size]\n",
    "  (if (= size 0)\n",
    "    '()\n",
    "    (cons (generator)\n",
    "          (sample-corpus generator (- size 1)))))\n",
    "\n",
    "(sample-corpus sample-ab* 4)"
   ]
  },
  {
   "cell_type": "markdown",
   "metadata": {},
   "source": [
    "Now let us also use our scorer to score our corpus. Note that this value is the just probability of our sampler generating this corpus. "
   ]
  },
  {
   "cell_type": "code",
   "execution_count": 78,
   "metadata": {},
   "outputs": [
    {
     "data": {
      "text/plain": [
       "(() (a b) (a b) (a b) (a b) (a b a b) (a b a b) () (a b a b a b a b a b a b) ())"
      ]
     },
     "execution_count": 78,
     "metadata": {},
     "output_type": "execute_result"
    }
   ],
   "source": [
    "(def ex-corpus (sample-corpus sample-ab* 10))\n",
    "ex-corpus"
   ]
  },
  {
   "cell_type": "code",
   "execution_count": null,
   "metadata": {},
   "outputs": [],
   "source": [
    "(defn score-corpus [scorer corpus]\n",
    "  (if (empty? corpus)\n",
    "    1.0\n",
    "    (* (scorer (first corpus))\n",
    "       (score-corpus scorer (rest corpus)))))\n",
    "(score-corpus score-ab* e)"
   ]
  },
  {
   "cell_type": "markdown",
   "metadata": {},
   "source": [
    "## Fit of a Language to a Corpus \n",
    "\n",
    "How can we tell out of two probabilistic models which is a better representation to our corpus?\n",
    "\n",
    "For our corpus _ex-corpus_ lets us define a new model based on the language \n",
    "_{a, b}*_ to describe it"
   ]
  },
  {
   "cell_type": "code",
   "execution_count": 85,
   "metadata": {},
   "outputs": [
    {
     "data": {
      "text/plain": [
       "(b)"
      ]
     },
     "execution_count": 85,
     "metadata": {},
     "output_type": "execute_result"
    }
   ],
   "source": [
    "(defn sample-a*b* []\n",
    "    (if (coinflip)\n",
    "        '()\n",
    "        (cons (if (coinflip) 'a 'b)\n",
    "              (sample-a*b*))))\n",
    "(sample-a*b*)"
   ]
  },
  {
   "cell_type": "code",
   "execution_count": 87,
   "metadata": {},
   "outputs": [
    {
     "data": {
      "text/plain": [
       "{(a b b b b a) 141, (a a b a a a b b b) 2, (a b b a a b a a b b) 2, (b b a b a b a a b a a) 1, (a a b a a a b a b a a a b b) 1, (b b a b a b a b b) 5, (a b a a b a b b a a b) 1, (b a a b b a a a b a) 3, (b b b a a a a b b) 2, (a a b b b a b b a) 2, (a a a b b a b a b b a b b b) 1, (b b b a a a a) 35, (b b a b a a a a b a) 1, (a b a b a b a b) 7, (b a a a b b a b a b) 2, (b a a a a a a a b b) 1, (b b b a b a b a b) 1, (a b a a b b b b b b) 1, (b b a b a a a a a) 1, (a a b b a b b b a) 3, (b b a b b b a a b) 3, (b b a b b b b a b a a) 1, (a a a b a a a a b) 1, (a b b a b b b a a b) 2, (a a a a b a b a b) 4, (b a a a b b a) 33, (b a b b a a a b b) 2, (b b a b b a b b a a) 1, (a b b a b a a a a) 5, (a a a a a b a b b a) 1, (b b b b a a a b a b b) 1, (b a a a b a a a) 6, (b a a b a b a b b) 2, (b b a b a a a a a b) 1, (b b a a b a a b b a) 2, (a b b a a b b b) 14, (b a a a b b a a b a) 1, (a b b b a b a a b a b a b a) 1, (b a a) 7863, (a a a b b) 453, (a a b a a a b a b b) 3, (b a a a b b b b a) 2, (a a a a b b b b b b b) 1, (b a b b a a a a) 8, (a a a a b a b a b b) 1, (a b b b a a b a a b a a b) 1, (a a b a a b a a b a b b b b b) 1, (b a a a a b b a a) 2, (b a b b a b a a) 6, (a a a b a b a b a b a a) 1, (a b a a b a b b b) 1, (a a a b b b a a a a a) 1, (a a b b a a b b b) 1, (b a a a b a a a a b a) 1, (b a a a a b a a a b a) 1, (a b b b b a a a) 8, (b b a b a b a a) 12, (a a b b b a a a b b) 1, (b a a b b b b a a a) 1, (a a b b a a a a b a b b) 1, (b a a b b b b b a b b) 1, (b b a a a b a a a b) 3, (b a a b a b a a a b) 1, (a b b a b a) 132, (b a b) 7790, (a b a a a a b a a) 1, (a a a a b a b b b a) 1, (b b a a a a b b b) 3, (b b b b b a b a b b b a) 1, (b a a a a a a b a) 1, (a a b b b a b a b a b a b b) 1, (a b a b b b b b a b) 2, (b a a b a a a b b) 1, (b a a b a b b a b a b) 1, (a b a b b a a a a) 3, (b a b b a b) 126, (a b a a a a a b b b a) 1, (b a b b b b a a a b b a a) 1, (b b a a a a a) 40, (b a a a a a a) 22, (a a a b a a b b b) 3, (a a a b b a a b b b b) 1, (b b b b b a b a b) 1, (b a a b b a b b a b a) 1, (a b b a a a a a) 13, (a a a a a b b b a) 3, (a b b a b a b b b) 2, (a a a b a b b b b a) 1, (b a a a a b a b) 3, (b b a a a b a a b b) 1, (a a a a a b a b b) 1, (b a b a b a b) 38, (a a b b a b a) 22, (a a b a a a b b) 7, (a a a a b a a a a b a) 2, (b b b a a b b b b) 2, (a b a b b b a b b b) 1, (b a a b a b b b) 11, (a a a b b b b) 29, (a b a b b b b b a b b a) 1, (b b a a a a b b) 14, (a b a a a b b b) 9, (a a a a a b a a b b) 1, (a b a a b a b a b a) 1, (b b b a b a b b b a b a a) 1, (b b a a b a a a) 12, (a a b b b b a b b) 3, (a b a a b b b a a a a b) 1, (a a a a b a a b b b) 2, (a b b b b a b b b a a) 1, (a a b b b b a a b a) 1, (a b b a b b b) 33, (b b a a a b a b) 8, (a a b a b b b b a a b) 1, (b a a b b a b b) 5, (a a a b b a b a a b) 1, (a a a a a b b) 34, (a a b a b b a b a) 1, (a b a b a b b a b) 1, (a a a a a a a a) 13, (a b a a a b b a b a a b a b a a a a) 1, (a a b b a a a b) 9, (b b b a a a a a b a a) 1, (b a b b a b a b a) 3, (a b a b b a a b b b b b b) 1, (b b b b b b b b b) 1, (b a) 31366, (a b a b b a a b a) 3, (a b b b b b b b a a a b a b) 1, (a a b a b b b a) 9, (a b a a a a a a b) 1, (b b a a b a b b a a a) 1, (a b b b b b b b b a b b b a) 1, (b b a a b a) 101, (a b b a a a b b b a) 1, (a b b a b b) 123, (a b b a b b a b b b) 1, (b a a a a a a a b) 2, (a a b b a b a b b) 2, (b b a a a a b a a) 4, (a a a a b b b b a b a) 1, (b b b b a a b a a) 5, (a a a a a b b a a b b b a) 1, (a b b a b b a a b a) 2, (b b a b a b b a b a a a a) 1, (a a a b b a b b b b a) 1, (a b a a a b a b b a b a) 1, (a b b b a a b b a b a a) 1, (b b b b a b a a a b b) 1, (b a b b b b a b b a a) 1, (b b a b a a a a b) 2, (b b b a b b a b b a) 2, (a a b b a a b a) 14, (a b a a a a b b a a) 1, (b b a b b b a a a b b) 1, (a b a a a a a b a) 3, (a b b a a b a) 41, (b a b a a b a a b) 5, (a b b b b b b a a) 4, (a a a b b b a) 24, (b b b b b a a a a a) 1, (b b a b b b a b b a) 1, (a a b b b b a a b) 3, (a b a b b a a a b) 2, (a b b a b b a a b) 1, (b b a b a a b a) 4, (b a b b a a a a a b b a b b) 1, (a a b a b b a b a a a) 1, (b a a a b b a a a) 1, (a a b b a b a b) 2, (b b a b b b a a b b a) 1, (b a b b b b b a b a a a) 1, (b b a) 7684, (a a b a a b b a) 7, (b a a b a b b a b a b b b a b) 1, (b b a a a b b b) 8, (a a a b b a a b b a) 1, (a a b a a a a a) 7, (a a a b a b b a a a) 1, (a a a b b b a a a b a) 1, (a a a b a a a b) 8, (b b b a b b a b b a a a b) 1, (b b a a b b a a b b) 1, (b b a a b b a) 27, (b a b a a a) 111, (a a b b a b b a a a a b a) 1, (a a b a) 1993, (b a b b) 1913, (a b a a a a b b a b a a) 1, (b a b a b b a a b) 4, (a a b b a b a b b a) 1, (a b b a b b b b b) 1, (b b b a a b a) 35, (b a b a a a a a b) 6, (b b a b b b a) 27, (b a b b a a a b b a b b) 1, (a a b a a a a b a b) 1, (a b a b b b a b b b b b) 1, (a a b b a a b a b) 4, (a a a b b b b a b) 2, (b b a b a b a a b a b) 1, (a a a b b b a b b) 3, (a a a a b a b b b) 1, (b a a b a b b b b a b) 1, (a a a b b b b b a) 1, (a a a a a a a b b b) 2, (b b b b a a) 115, (a b a a a a b b b b) 2, (b a b b b b b) 37, (a a a b a a a b a) 4, (b a a a b a a b) 6, (b a b b a a a b a b) 1, (b a b b a a b a a a) 1, (b b b b a b a a b a) 1, (a a a a b b a b b b b b b) 1, (a b a b b b b b b) 2, (b a b a b b a a) 8, (a a b a a a) 122, (b a b b b b b a b) 3, (b a b a b a b a a a b a b b) 1, (b b b b a b a b a) 1, (a b a b b a b a b a) 2, (b a b b a b a a b a b) 1, (b b a b b b b b b a a b) 1, (b b a a b a a a a) 1, (b a a a b b b a a b) 2, (b a b a b b b a a b a) 1, (a a a b a a b b a) 3, (b a b a a) 544, (b b a b a a b b b b) 1, (a a a b a a b b a b a a a) 1, (a b b a a a b a a) 1, (b b b b b b) 127, (b a a b a a a b a) 1, (b a b a a b b b a) 1, (b b b b a a b b) 5, (b a b a a b a a b a b a b b) 1, (a a b b b a b b) 5, (a b a b b b a b b b a b a) 1, (a b b b b a a a b b) 1, (a b b a b b b b a a a b) 1, (b b b a a b b b a a a b a b) 1, (a a b b a a a) 25, (b a b a b b b a b b) 1, (a a b b a b a b a b a) 2, (a b b b b a a b b a) 1, (b b b b a a a a) 11, (b b b a a b a a a) 3, (a a b a a b a b b b a a a) 1, (b a a b b b a a a a b) 1, (a a a b b a a b b b a) 1, (b a b b b a b b) 3, (a b a a b a a a b a a a) 1, (b a b a b b b b) 9, (a b b a b a a b a a) 1, (b b a b b a a) 36, (a b b a b a a a b) 2, (b a b a b a a a a a) 1, (b b a b a a a b a b b) 2, (a b a b b a a a b b) 2, (b a a b a a b b b a) 2, (b a b a b b a b b b) 1, (a b a a) 1917, (a b a b b a b b a) 4, (b a a a b a b) 26, (b b a a a b b b b b) 1, (a a b b b b a b a b) 1, (a a a b a b b a a b) 2, (a a a b a a a b b b b) 2, (a a a a a a a b a a) 1, (b a b b b b b a) 10, (b a b a a b a b a b a b b) 1, (b a b a a b b a b) 2, (a a a b a a a a a a b a) 1, (a a b b b b a) 33, (a b a a b a b b a a) 1, (b b a a b a a a a b b b) 1, (b b b b b b b) 27, (a a a a b b b a b a) 3, (b b b b a a b b a) 1, (b a a b a b a) 31, (a b b b a a b b a) 2, (b b b a b a a a a) 1, (b b a b b a) 121, (a b b b b b a b a b a) 1, (a a a a b b b a b b b b b a b b a a) 1, (a b a b a b a b a) 3, (b a a b a a) 110, (b a b b b a a) 28, (a b a b a b b a) 11, (a b b a b a a a a b) 2, (a a a a b b b a b) 2, (b a b b b b a b b) 2, (b b b b b b a b) 3, (b b b b a b a a a a b b) 2, (a a b b b b b b b) 3, (a a b b a b a b a a) 2, (b b b a a a a b) 4, (a a a a b a b b a) 4, (a b a a b a a b b) 2, (a a a b a b b b a b a) 1, (b a b b b b a a a) 2, (b b a b a b b a a) 4, (a a b b a b b a a a) 1, (b b b b b) 483, (a a a b b a b a b b a b b) 1, (a b a a b a b a) 7, (a b a b a b a a a) 2, (b a b b a a a a a) 1, (a a b a b a b b b) 1, (b a b b a b b a b b a) 1, (b b b b a a b a b) 1, (a b a b b a a) 33, (b a a a b a b b) 5, (b b b b b a b b a) 2, (a a a b a a b b a a b) 1, (a a b a a a a b b) 3, (a b a a b b a b a a) 1, (a a a a b b a a a b b b) 1, (a a a b b b) 103, (a b a a b a b a b a a) 1, (b b a a a b b b a) 6, (a b a b a a a a b a) 2, (a a b b b b b a a b) 1, (a a a a a b a a a) 2, (a b b a b) 527, (b a b b b a a a b b) 1, (a a b b a b a a a a) 1, (b b b a a a a a a) 2, (a b a a a b a a) 8, (b a b b b b a b a) 5, (a a b b b) 483, (a b b a b b a b) 7, (b b a b b b b a b a) 1, (a b b b a b a a a a) 1, (b b b a b b a b a a) 1, (b a a b b a a a a a) 2, (b a b b b a b a) 6, (b b b a b b a a) 4, (b a a b a) 490, (b a b a a a b a a) 4, (a a a a a a) 134, (a b b a a b a a b a a b) 1, (a b a b b a a b) 3, (b b b a a b b b) 8, (b b a a b b b b b b a) 1, (a a a a b b) 130, (b b a a a b a a) 8, (b a a a a b a b b b) 1, (a a a b b a b a) 8, (a a a b b b b b a b) 1, (b b b b a b b a) 5, (a b b b b a b a) 10, (a b a b b b a b b) 3, (a b b b b a a b) 7, (b b a b b b a a a b) 1, (b b b b b a a b b) 3, (b b a a a b a a a a b b) 1, (b b a a b b a a b b a) 1, (b a b a b a a a a a a) 1, (a b b b a b a) 32, (b a b b b b b a b b) 1, (b a b b b a a b a b a a a) 1, (a b a a a b a b b) 2, (a b b a a a a b a) 2, (a b b a b b b b a a b) 1, (a b a a b b b b a) 2, (a b a a b b b b b a b) 1, (a b a b a a a a a a) 1, (b a a a a a b a b) 1, (a b a b a b b) 33, (a b a a b b b b) 5, (a a a a a b a b b b b) 1, (a a b b b b b a) 10, (a a b b b a b a) 8, (b b b b a b b b a b) 1, (a b a b b a a b a b a a a) 1, (a b b a a a b a b a) 2, (a a b b b b a a b b b) 1, (a b b a a b b a b) 1, (a a a a a a a b b) 2, (a b b a a a b b a b a b) 1, (b b a a a a a b a b b a) 1, (b b a b b a b a a a) 1, (a a a b b b b a) 5, (a b b b b a a b a a a) 1, (a a b b a a a b a a) 1, (a b b a b a b b a a a b) 1, (b a a b a b b b a) 1, (a a a b b b a a b b a b a a) 1, (a a b b a b b a b a) 1, (a b a b b a b a a) 1, (b b a a a a b a a b a a b) 1, (b a b b b b b b) 7, (b b b b a a a a a) 1, (b b a a a b b) 39, (a b a b b b b b a) 2, (a b a a a b a a b a) 2, (b b b b a a a b b b) 1, (b b b a a a a a a a a) 1, (b a a a a b a a b a) 1, (b a b a b a b b a) 1, (b b b a b b) 110, (b b a b b b b a a b a) 1, (b b a a) 1990, (a b b a a b a b b a b) 1, (b b a b a b a b b b a a) 1, (b b a a b a b a a a) 3, (a a a a a b b a) 7, (a a b a a b b a b a a) 2, (b a b a b b a b a a) 1, (b a b a b a b a b) 2, (b b a a a) 484, (a a b a b b b b b b b a) 1, (b b b b a a a b a a) 1, (a a a a a a a) 19, (b b a b b a a b a) 3, (a a b b b a a a b) 1, (b b b b a a b b a a b b a a b) 1, (b a a b b a b b a) 2, (a a a b a b b b a) 1, (a a a a b b a a a) 1, (a a a a b b b b b a) 3, (b b b b a b b a a) 3, (b b a a a b a b a b a a a) 1, (a b b b a a b b a a a b) 1, (a a a a a b a) 31, (a b a a a a a b b b a a b b) 1, (b a a a a a b a) 6, (a b a b b b a b b a) 1, (a a a a a a a b a) 1, (a a b a a b b a b a a b) 2, (a a b a b b b b) 6, (a b b a a b b b b a a) 1, (a b a b a a b a b a) 1, (a a b b b a a) 37, (a b b a b b b b) 8, (b b a b b b a a a b a a) 1, (b a a a a a b a a b) 1, (b a b a a b a a b b) 2, (b a a a a b a a a a) 2, (a a b a a b a b a a a) 1, (a a a a a b b a b) 1, (b b b a a a b a a a a) 1, (a a b b b a a a b b b a) 1, (a a b a b b b a b) 3, (b b b b b b b a a) 2, (a a a a b b b b b b) 1, (a a b b a a b b b b a b) 1, (b b b a a b a b b) 4, (a b a a a a a b a b) 1, (a a b a b a a b a b b) 1, (b b a b a b a) 38, (a a a b a a b a a) 2, (a a a a a a b a b b a a) 1, (a a) 30963, (b b a a a b b a b) 1, (a a a b b a b b b b) 1, (a a a b a a b b) 8, (b a b a a a a a a a a b a b) 1, (b a a b b a a b b) 2, (a b a b a a b b b a b a) 1, (a b a b b a a a) 8, (b a b a b a b a a b) 1, (a a b a a a a b a a b) 1, (b a b a b b b a b) 2, (a a b b b a b b b a) 1, (a b b b b b b b a a b a b b) 1, (b b b b a a a a b) 2, (a a b b a b b b b a a) 1, (b b a b b b b a a a b) 1, (b b b b a b a a b) 2, (a a a a a a b b b) 3, (a b a b b b a b) 11, (a b b b b a a b b) 2, (b b a b a a b b b a b a b a) 1, (b a a b b b a a a) 3, (a a a b b b b a a b) 1, (a a b a b a a a) 10, (a a b b a b b a a b) 1, (b b a a b a b) 26, (a b b b a b b b b b) 2, (b a a a) 1923, (b b b a a b a b b a a a) 1, (b a a b a b b b b) 1, (a a a b b a b a b a) 1, (b a a b a a b a a a b) 1, (b a b b b b b a a) 1, (a a b b a b a a a a a a) 1, (a a b a b b b a a a b b b) 1, (b a b b a a b b a b) 1, (a b b a a b b a b a) 1, (b b a a a a b a b) 2, (a a a a b b a a a b) 1, (b a a b a a b b) 9, (a b a a a b a a a a) 1, (b a a b a a b a a b) 2, (a b b b b a a) 32, (a b a a a b a b a a a) 1, (a a a a b b b) 33, (a a b b b a a a a a b) 1, (b a b a b b a b b) 1, (b b b b b a a a b) 1, (b b a a b a b a b a a) 1, (b a b a b b b a) 8, (a a b b a b b a b) 1, (b b b a a a a b a b a b) 2, (b a a a a a b b b) 3, (a b a b b b b a b) 1, (b b a b b a a a a) 3, (a a a b b b b b) 8, (b a b b b b b b a b a a) 1, (b b b a b a a b a b a) 1, (b b b b b b a) 31, (a b b b a b b b b) 4, (a b a a b b a a a) 3, (b a a a a a) 124, (b b a b b a b a b) 3, (b b b a b b b b) 9, (a b b b a b b) 29, (a a b b a a a a) 8, (a b a a b b a b) 10, (b b a b b b b a a) 1, (b a b b b b a a a a) 1, (a b b b a b a b a b b a) 1, (b b a a b b b b b) 1, (a a b b b a b) 26, (b a b a a b a a) 10, (a b b b a a a b b) 4, (a a a b a b a b b a b a) 1, (b a a a a a a b b b) 1, (b a b a b a b a a a) 1, (b a a b b b a b a) 3, (a b a a b a b a b) 2, (a b b a a a b a) 9, (b a b b a b a a a b) 1, (a a b b b a b b a b) 2, (a b b a a a b a a b) 1, (b b a a b a a a a a) 1, (a b a a a b a b) 7, (b a a b a a b a a) 4, (b b a a a a a b a) 2, (a a a a b b a b a) 1, (a a a b b b b b b a a b b) 1, (a a a a a a a b a b) 3, (a b b a b b b b a a) 2, (b b b b b b a a b a) 1, (a a b b b a a a b a b) 2, (b a b b b b b a a b b a a) 1, (a b a b b b b a b a b b) 1, (a b a b a b a b a b b) 1, (b a a b a a b b a b b) 1, (b b b a a a a a b a) 2, (a b b a a b b b b) 3, (a a a b b b b b b) 2, (a b a b a a a b a a) 1, (a b b b a a a b b b) 1, (a a a a a a b a a) 1, (a b a a b b a b b b a) 1, (b b a b a a b b b a) 1, (b a b a b a b b b a a) 1, (a a b b b b a a a a b a a a a b a b a) 1, (b a a b b b a b b b a) 1, (b a b a a b a a b a b a b) 1, (a a a b a b b a b a b) 1, (a a b b b a a b a) 3, (a a b b b b a b b a a b) 1, (b b a a a b a) 27, (b b b b a b a b b) 2, (b b b a b b b) 32, (a b b a b a a) 23, (b a a b a a b b a a b) 1, (b b b a a b a a b a b b) 1, (b a b a b a b b b) 3, (b b b) 7779, (a a b b a b) 113, (a b a b b a b a) 7, (a b b b b a b b b b) 1, (a b b a a b a a b a a a b) 1, (a b b b b b b a b a) 1, (a a a b a a a a b a) 1, (b a a b) 2010, (a b b a a b b b a) 3, (b a a b a b b a a) 3, (b b b a a a b b a) 3, (a b a) 7865, (b b b b b a b a b a) 1, (b a b b b b a a a b) 1, (b b a b b a a b b a) 1, (a a b b b a a b b) 2, (b a b b a a b b a a a) 1, (a a b a a b b) 26, (a a b b b a b a a) 2, () 500683, (b a b a b b) 120, (b b a a b b b a a b b) 1, (b b a a a a a b b b) 1, (b b b a b b b a) 4, (a b b a b b a b b a) 1, (a b a a a b a a b a a b) 1, (a b b b b a a a a) 1, (a b a a b b a a b b b) 1, (b b b a b b b b b b) 2, (a b b b b b b b b b) 1, (b b b a a b b a a a a a b) 1, (a b b b a a a b a) 3, (b b b b a b) 126, (a a a a a b a a b a) 2, (b a b b a b a b b a) 1, (b a b b a b a b b) 2, (b b b a b a b a a) 2, (b b b a a b a a b) 1, (b a a b b b b) 31, (b b a b a b b a) 8, (a b b b b b a a b a b) 1, (b b a a b a a a a b a) 1, (b b b b b b b b b a) 1, (b b b a b b a b a b) 1, (b a b b b a a b a b) 1, (a a a a b b a b b b a b a b a a b) 1, (b b a a b b a b b a b) 1, (b a a b b b a b b) 2, (b a b b b a b b b b) 1, (a b a a a b b b a a) 1, (a a b a a a b b a a) 2, (b b b a b b b b a a b b b) 1, (a b a b a a a b a a a b) 1, (b a b a b b b) 30, (a b a b b b b b b b b b) 1, (b a b b b b b a a a a) 1, (a b a a a a a b b) 1, (b a b b b a a a) 7, (a b a b a b b b b) 1, (a a a a b a b) 32, (b a b a b a a b b) 2, (b b a b b a a a b) 2, (b a b a b a b a b b a b) 1, (a b a a a a a) 38, (a b a b) 2007, (a a b b b a b a a a b) 1, (a b b b b a a a a a b b) 1, (a a b b b b b b) 4, (a a a b a b b a a) 4, (b b b a a b a a b a a b a) 1, (b a b b a a b b b a) 2, (b a a a b a) 141, (b a a b b b a b a b) 1, (b b b a a a a a a a) 3, (a b b b b b a b) 8, (b b a b b a a b a b a a) 1, (b a a a b) 439, (b a a a a b b) 35, (a a b b a a b) 22, (b b b a a b b a a) 3, (a a a a b a a b) 7, (a b a a a a b a) 9, (b b b a a a b a a) 1, (b a b b a b b a b b b) 1, (a b a b b b b a a) 4, (b a b b a b b a b b) 1, (a a b a a b a a a) 2, (b b b a a a b b a b) 1, (a a b b b b a a b b a) 1, (b a b a a a a a) 10, (a b a b b a b a a a a) 1, (a b a b a a a b) 6, (b a b b a b b b b b a a a) 1, (a a a b a a) 113, (b a b b a b a) 28, (b a a a b a b a b b b) 1, (b a a a a a b b) 5, (a a b a b a a b) 7, (a b a b a a b a) 5, (b a a a b a b a b a a) 1, (a b b a b a a a) 6, (b b a a b b b a b) 2, (b a b b b b b b b b) 1, (a b b b b a b a a a) 1, (a a b a b b a b a a) 1, (a a b b a a a a a a) 1, (b a a b b a a a a a a) 1, (a b b b a b a a) 6, (a b b b b b a a) 6, (b a a b a b) 131, (b b a a a a b a) 7, (b a a b b b) 112, (a b a a b b a a a b b b b b) 1, (b a b a b a b a) 7, (b b b b a b a) 39, (b a b a a a b) 20, (b a a a a b a b a) 1, (a b a b b) 501, (b b a b a b a a a b a) 1, (a b b a a b) 120, (b b a b b a b b a a b) 1, (b b b b b a b b b b) 1, (a b a b a a a b a) 1, (a b b b a b a b b a) 1, (b a a a a a a b a b b) 1, (a b a b b a b b b) 1, (b b b b a a a a a a b b) 1, (b a a b b a a a b b b) 1, (a a a a a a b b a b b) 1, (a b b b b b a a a a) 1, (a a a a a b a b b b) 1, (a b b a b b b a) 6, (b a b a b a a a b a b b) 1, (b a a a b b a b a b b) 1, (b a a a b b a b b a a b) 1, (a a a b b a b) 38, (a a b b b a a b a b) 1, (b b b a a) 475, (b a a b b b a a b b) 1, (a a a a a a b a) 9, (a a a a b a b b) 8, (a b b a b b b a b) 1, (a b b b a b b a b a b b b) 1, (b a b a a b) 126, (b a b b a a a a b) 2, (b b a a b a a b a a) 1, (a b a a b a b) 26, (b a a b a b a b b b b a b) 1, (b a b b b b a b a b) 1, (b a a b b b b b a a a) 1, (a a a b b a a b a) 1, (b b a b b b a b) 8, (b b b a a a a a) 8, (b a b b b b a b a a a) 2, (b a a b a b a a a) 4, (a b b a a b a b b b) 1, (a a b a a b a b) 6, (b b b b b b a b b a b b) 1, (a a a b b a a) 25, (b a b a b a b b a b) 3, (a b b b a a b b) 10, (b a b b a a b a b) 1, (a a b a a b a b b b) 1, (b a a a a a a a) 5, (b b b b b a) 127, (b b a b b) 456, (a a b a b b a a b a) 1, (a b a b a a b b b a a) 1, (b b b a a a b b) 12, (a b a b b a a a a a) 1, (a a a b b b a b b a) 1, (a b b a b b a a a) 5, (a b b b a a a b a b) 1, (a a a a a a a a a a a) 1, (a b a a a b b) 28, (b b a b a a b b a) 1, (a b b a b a b a a a) 1, (a b a a a b a) 31, (b b a b a a a) 29, (b a b a a b a) 30, (a a b b b a b a b b b) 2, (b a b a a b a b a) 1, (a b b a b b a) 26, (a b b a a b b b b b a) 1, (a b b b a b b a b b a b) 1, (b a a b a a b a) 8, (a a b a a b b a a a) 2, (b b a b a a a a) 8, (a b a a b b) 123, (b a b b b a b) 35, (a b a a a b a a b) 2, (b b a a b b a a) 6, (b a a b b a a b) 9, (b b a a a b b a) 8, (b a b b b a a a a b a a a a b) 1, (b a b b b a b a a b b b a) 1, (b a a a b a a) 33, (a b a a b b a a b) 3, (a b a b b b a) 21, (b b a b a b b a b b a a) 1, (b b b a b b b b a a a a) 1, (a a a a b a a a a) 1, (b b b a a a b b a b a) 1, (b b b b a b b b) 5, (a b b b b a a a b) 1, (a a a b b a b b a b a) 1, (b b a a a b b a b a) 1, (a b b a b a b b a a b a b b b a a a) 1, (b b a a b b a a a b a b a) 1, (a a a b a b) 129, (a a a a b a b a b b b) 1, (a a a a b) 469, (a a a b b b b b a a) 1, (b b b b b b a b a a a a) 1, (a a a b a b b a b b) 1, (b b a a a b b b b) 2, (b a a a b a a a b) 1, (b a b b a b b a b a b a b) 1, (a b a b a a a a a b b a b a) 1, (b b a b b a a a b b) 1, (b b b b b b b b a a a b) 1, (b b b b a b a a) 4, (b a b b b a) 125, (a a b b a a b b a a) 1, (b a a a a b b b a) 3, (a b b a b b b b a) 3, (b b a a b b a b b b) 1, (b a b a a a a b) 7, (a a b a a a b a a) 2, (b b a a a b b a a) 2, (b a b a a b a b) 5, (a a a b b a a a a a) 1, (a b a a b a a b b a b a) 1, (a b b b b b a a b) 1, (b a a a b a b a a a b) 1, (a a a b b b b b a b a) 1, (a a a a a b b b b b) 2, (a a b a b a b b a a a a) 1, (a a a a a b a a b a b) 1, (b b b a a b a a a a) 1, (a b a b a b b a b a) 1, (b a a a b a b a b b) 1, (a b b) 7770, (a b a a a a a a a b) 1, (a a b b a a b b a b a) 1, (a b b b b) 484, (b a b a a b a a b a b b a b a) 1, (a b a b a a b a a) 3, (b b a a b a b b a) 3, (b b b a a b) 105, (b a b b a b b b b b) 1, (b a b b b b a b b b a a) 1, (a b a b a b b a a) 1, (a b b a a b b b b b a a) 1, (b a a b b b a b a b b) 1, (a a b b a a a b a b) 1, (a a a a a b b b b b a) 1, (a b b b b b a b b a b b b) 1, (b b b a b b a a a) 4, (a a a a b a b b a a a b) 1, (b a b a b a a b a a) 1, (b b a b a a b b a a a) 1, (b a a a b b a b) 5, (b a a a a b b b b b a b) 1, (b b a b b a b b) 9, (b b b b a b a b) 5, (a a b a b b b) 35, (a a b a a a b a a b) 1, (b b a a b b a b) 6, (b a b b b a b a b a b b b b b b a) 1, (b a b b b a a a a b b b a b) 1, (b b a b a a a b) 7, (a a b b b a a a a b) 1, (b b b a b a b b a a a a) 1, (b b a b a a a a b a a) 1, (a a b a a a a b b a a) 1, (a a a a b b a a a a a a) 1, (a b b b a a a a a) 3, (a a a b b b b a b b b a a) 1, (a b a b b b b) 27, (a b a b a b a b a a b b a) 1, (a a a b) 2020, (a b a b b b a a b a) 1, (a a b b a a b a a a) 2, (b a a a a b a b a b) 1, (a b b a b a b b) 6, (b a a b b) 491, (b a a a b a a a a a) 1, (a a b b b a a a) 8, (a a b a b a a a a a b) 1, (b b a b b a b b a) 3, (a b a b a a b a b) 1, (a b b a a b a a) 7, (a b a a a a b a b) 1, (a a a b b a) 128, (a a b a a b b b b) 2, (b b b b b b b a b) 1, (b a b b b b b b b a) 1, (a a a b a b a b a b a a b a a) 1, (b b b b b b a a a) 1, (b b a b b b b b a b) 2, (a b a a b a b a b a b) 1, (a b b b b b a b b a) 1, (b b a a b a a b a b) 1, (a a a a b a b b b b) 2, (b a a b a a b b b b a a a a) 1, (a b a b a b a a) 6, (a a b a a a b) 37, (a b a a b b a) 24, (b a a b a b a b b b a a) 1, (a b b b a b b b) 8, (b a a b a a a b b a) 2, (a a a b a a a b b) 1, (b b b b a a a b a a b) 1, (a b b b b a b a a) 2, (a a b b a b b a b a b) 1, (a b a b b a a b a a a a b) 1, (b a a a a a b a b b a a) 1, (b b b b b a b b) 4, (a a a b b b b a a b a) 1, (a a b a b b a a) 10, (a a b a b b b b a) 5, (b b b b a a a a a b) 1, (a b b b b b b) 31, (b a a a b a b a) 6, (b b b a b b b b b a a) 1, (b b b b a b b a b b b) 1, (b b a b a a b a a) 4, (b b b b b a b a a b) 2, (b a a a a a b a b a) 1, (a a b a b a b) 32, (a a b b b b a b b b b) 1, (b b b a a b b a b) 1, (b b a b b b) 111, (b b b b a a a a a b b b a b) 1, (b b b a b b a b b) 2, (b a b b b a a b a a) 1, (a b a a b b a b b b) 2, (a a a b b b a a) 7, (a a b a b a a b b b) 2, (b b a b a a b b b a a b b) 1, (a b b a b b b a b b b a) 1, (b a a a b a b a a b) 1, (b a b a a b a b a b b) 1, (b b a a a b a b b b) 1, (a b a b b b a a b) 3, (b a a a a b a b b a a b) 1, (a b a b a b b b a a a) 1, (b b a a b b a a a) 2, (a b b a b b b a a) 1, (b b b b b b b b) 9, (a b b b a a a b a a b b) 1, (b a b a b b a b b a b b) 1, (b b b b b b a a b b) 2, (a a a a b b b a a) 1, (b a a b b a b a) 9, (b a b b b a a b b) 3, (a a b a b a b b) 5, (a a b a b a a a b) 2, (b a b b a a) 116, (b a a b b a b) 28, (b a b b a a a a b b a b b b b b b) 1, (b b b a a a b a b a b a) 1, (b a a a a a a b b) 1, (b b a b a b b b a) 2, (a b a b b a b b b b b) 1, (b b a b b a a b b b) 1, (a a b b b a a a a) 2, (a a b a a a b a) 4, (a a b a a a a a b) 1, (b a b a b a) 112, (b b b b a a b b b a b b) 1, (a b b a a a a b a a b) 1, (a a a b a b a a) 7, (b a a b b a b a a b) 1, (a a a b a a b a b a) 1, (a a b b a a a a a) 2, (a a b a a b b a b) 4, (a a b b a b a a b b a) 1, (a b b b b b b b a a a b a) 1, (b a b a b b a) 47, (b b b a b b a b) 7, (a b b a a a a b a a a b) 1, (b b a b b a b b b a) 1, (b a b b a a b b a) 5, (b b a b b a b b b) 3, (b b a b a b b) 35, (b b b a a b a b a b) 1, (a b b a b a a b a b a a a) 1, (a b a a a b b b a) 3, (a b a a b b b b b) 2, (a a a a a b b b a b a a b a b) 1, (a b b a b b a a) 10, (b a a a a b b b) 12, (b a a b b b b b) 10, (b b a b b a b a b a a a b b a) 1, (b a a a a b) 121, (a a b b a b a a) 7, (b b a a a a b b b a) 3, (a a b b a a a a b b) 1, (b a a a a a a b) 7, (b b b a b a a a b b a) 1, (b b b a a a a a a b) 4, (a b b a b a a b b b b) 1, (a a b a a b a b a b b b) 1, (a b b b a b b a b b) 1, (b a b b b a b a a) 6, (a a a a a a a a a) 1, (a a a b b a b b) 10, (b b b a a a b a b) 2, (b a b a b a a a a b a b) 1, (a a b b b b a a a) 1, (a a a a a b) 139, (a b b b a b a b a b b b) 1, (b a b b a a b a b b) 1, (b b b b a a b b b) 2, (a a a a a b b b b b a a a) 1, (a a b b a b b b) 6, (b b a a b a b a b b b) 1, (b a a a a a b b b a b) 1, (b b b b b b a b a a a) 1, (b a b a b a b a b b) 2, (b a a b b b a b b b b) 1, (a a b a b a b b a) 3, (b b b b b a b a) 4, (a a a b b b a b) 8, (b a a a a a b b b b) 1, (a a b b b a b a b a a) 1, (a b b b b b b b a b) 1, (b a a b a a a b b b b) 1, (a b b a b b a b b) 5, (b a b a b a a a a) 1, (a b a a a b b a) 4, (b a a b a a b b a b) 1, (a b b b b b b b a) 1, (b b a b a b) 109, (b b b a a b a b a) 1, (a b b b a a b a a a a b b) 1, (b b a b b b b b b b) 1, (b a a a b b a a b) 1, (a b b a a b a b b b a) 1, (a b b b b a b a a a a a) 1, (b a a b b a a b b a b) 1, (b b a a a a a a b a) 1, (a a a b b a b a a) 2, (b b b a a a a b a a b) 1, (a b b a b a a a a a) 1, (a b a a b b b a b b a) 1, (a b a b b b b a a b) 1, (b a b b a b b) 32, (a b a a b b a a) 7, (a b a b a a b) 31, (b a b a b a a b a) 4, (b b b b a b b) 24, (a b b b a a) 118, (a a a b a b a b b a b b a) 1, (b b a a b a a b) 5, (a a b a a a a a b a) 1, (b a a b b b b a b a) 2, (a a b b b a a b) 4, (a b a a a b a a a b b) 1, (b b b b a b a a b b) 1, (a b a b a b a b a a) 2, (b b b b) 1965, (b b b b b b b b b b) 1, (b b a b a a a b b b) 2, (a a b a b b b a a) 1, (a a b a a a b a b a a) 1, (b a a b a a b b a) 2, (b a b b a b a a b a a a b b) 1, (a b a b b a b) 28, (b a a b a b b a b b b a b) 1, (b a b b b a a b b b) 2, (a a b a b a a b a a b) 1, (b a a a b b b a a) 1, (b a a a a a b) 28, (a a a b a a a) 29, (b b a a b b b b a a) 2, (b a b a a b b b b a b a) 1, (b b a a a a b b b b b a) 1, (b b b a b b b a a b) 1, (b a a a b b a b b b b a) 1, (a b a a a b a b a a) 1, (b b a b a a b) 45, (b a b b b a b b b) 1, (a a a b b b b b a a a b) 1, (a b a a a a a b) 13, (a a a b a a b a b) 1, (a a a b a a a a a b a) 1, (b b a b b a b) 35, (a b a a b b b a b b b) 1, (b a b b a a b) 27, (b a a a b a a a b b) 2, (b b a a b a b b a a) 2, (b b a a a b a b a) 2, (b a b b a b a b) 7, (b b b b b a a) 21, (a b b b a a b b a b) 2, (a b b b a a a b b a b b) 1, (b a b b a a a a b b) 3, (a b b b a b b a a) 4, (a b b b a a b a b) 2, (b a a b b a b a a a a) 1, (a b b b a b b a a b) 1, (b b a b b b a b a) 1, (b b b a a a a a b) 2, (a b b b b a b b b a b) 1, (a a b a a b b b a) 2, (b a b a b a b b a a a b) 1, (a a b b a b b a b a b a a) 1, (a a a a b a b a) 13, (b a b a b b b a a a b) 1, (b b b a b a a) 29, (b b a b b b a a a a) 2, (a a b b a) 466, (a b a a b a a a a) 1, (a a a b b b a b a b a) 1, (b a b a a b b b) 9, (b a b a b a a b b a b a) 1, (a b a a b a a a b) 4, (b a a b a b a b a) 2, (a b b a b b b b b a) 1, (a b b a b a a b b) 3, (a b a a b a b b a b) 1, (a b a b b b a a) 12, (a b b b b a a a a b) 2, (a a b a b b b a b b) 1, (a b b a a a b b) 6, (b a b b b a a b b a) 1, (b a b a a b b) 25, (a a b a a b a b a b b b a b a a a b) 1, (a b b a b b b a a b a b) 1, (a a b b a a b b b b) 1, (a a a b a a b a) 8, (a b b a b a b a b b) 2, (a a a a b b a b b) 1, (a b b b b b) 123, (b a b b b b a b) 4, (a a a b b b a a b) 1, (a a a b a a b) 38, (b a a a b b b b b b b) 1, (a b a a b) 505, (a a a a b b a a b b) 2, (a a b a a a b a b a) 1, (b b a a a b) 121, (a b a a b a a b) 14, (b b b b b a a a a) 2, (b b a a b a a a a b) 1, (a a b b b b b b a) 5, (a a b) 7681, (b a a b b a a b b a b a a) 1, (b a a b a a a a b) 1, (a b b b b a b b b a b a) 1, (a b a b a a b b a b) 1, (b b a a b b b b a) 1, (b a b a a a a a a) 2, (b a b b a b b a b) 5, (b b b a a b a a a a b) 1, (a b b b a b a b a) 3, (b b a a b a a) 33, (b a a b a a a a a b a) 1, (a b b a a b a b a a a) 1, (b a b a a a b b) 10, (a b b b b a b) 23, (a a a b b a b b b) 3, (b b a a a b b a b b b b b b) 1, (b b a a b a a a a a a b) 1, (a a b a b b a a b a b a) 1, (b b a a b a b b a b) 1, (a a b b b a b b a a) 3, (b a b b a a a b) 7, (b a b a b a b b) 6, (a a a b a b a a a a) 1, (b a b a a a a a a b) 1, (b b b a b a b) 44, (a a a b b b a a a) 3, (b b a a b b b b a b) 2, (a a a a b a a b a a b) 1, (a a a a b b a b) 6, (b a a a a b a b b a) 1, (b a b b b a a a b) 2, (b b b b b b b b a) 2, (b a b b a b a a b b) 1, (a a a a b a b a b a b b) 1, (b b b a a b a b b a) 2, (a b b b a a b b b) 2, (b b a a b) 504, (a b b a a b b a a) 1, (a b a a a a b) 23, (a b b a a b a b b a) 1, (b b b a a b b b b a a) 1, (a a b a a b) 125, (a a b a b a a b b a b b b b) 1, (b b b b a a a b a b) 1, (a a b b b b a b b b b a a a) 1, (b b b b a a a b b) 1, (a a b a a a a b b b) 2, (b a a a a b b a) 9, (a b b a a a a a a a b) 1, (a a b b b a a b a a) 1, (b b b a b a a a b) 2, (b a a a a b b b b) 1, (b b a a a a b a b a b a b) 1, (b a b a b a a b) 3, (b b b a a a b a) 12, (b b b b b a b) 37, (b b a a b b b b b b b) 1, (b a a b b b b b a) 1, (b a b a a a a b a a) 3, (a b a b a a a) 30, (b a b b a b b b a) 1, (b b a a a b a a b) 4, (b a a b a a a a a) 1, (b b a a b a a a b) 3, (b b a b b a a a b b b) 1, (a a a a b a b b b b b) 1, (a a a b a b a b b) 4, (a a a b a b a a b) 1, (b b b b a a a) 34, (b b b a b a b a) 14, (b b b a a b b) 28, (b b a a b a b b b) 2, (b a b a b b b b a b b a) 1, (a b a b a b a b a b a) 1, (b b a a b b a a b a a a a) 1, (a b b a a b a a a) 5, (a b b b b a a b a a) 2, (b b a a a b a b b) 4, (b a b b a a a b a) 1, (b a a b b b b b b a) 1, (b b a a b b b a a) 1, (a a b b b b b a b b) 2, (b b a b b a b a b b b a) 1, (a a b b a b a a a b) 1, (a a b a b b a b) 7, (b a b b a b a a b) 4, (b a b a b b a a a) 6, (b a b a b a a a) 8, (a a b b a b a b a a a) 1, (a a a b b a a a a a a) 1, (b b b a b a a b a a a b) 1, (b a a a b b b a a a b) 1, (b b b a b) 442, (b b b a) 1953, (a a b b a a a b b b) 3, (a a b a a a a) 28, (a b a a a a b b b) 4, (a b a a a a a b b b) 1, (b b b b b b b a b a) 3, (b a a a a a a a b b a a) 1, (b a b a a b a b b a a) 2, (b a a b b a a a) 8, (a b b a b a a a b b) 2, (a b b b a a a a b a b a a a) 1, (a a a b a b a b a) 2, (b b b a a b b b a) 1, (b b b a b a a b b b) 1, (a a a a a b a b) 5, (b b a b b a b a a b) 1, (b a b b b a a a a) 2, (a a a b b b a b a a) 2, (b a b b a a b a) 3, (b a b a a b a a a a) 1, (a b a b b b b a) 6, (a a a a a b a a b) 1, (a a b b a b b a) 11, (b b b b b a a a) 3, (b a a b b a a b a b) 1, (a a a a b a a b a a) 1, (a b a b b b b b) 11, (a b b a a b b) 32, (b a a b b b b a b) 1, (b b b b a a a b) 4, (a b b b b b b a a a a b b b a b a a) 1, (a b a a a b) 105, (a b b b b b b b b) 1, (b b a a a b b a a b b a) 1, (a a a b a b b) 31, (a b b a a b a b b) 2, (a b b a b a a a b a b) 1, (a a b a a b a a a b) 1, (b b a b b b b b) 2, (a a a a a b b b) 8, (a a a b a b a b) 10, (b a a a b a b b a a) 3, (b b a b a b a b a) 2, (a b b b a) 462, (b b b a b a b b) 8, (a b b b a b b b a b a) 2, (b a b a b b b a a a b b a) 1, (a b b b a b a a a a b b b a) 1, (a a b b b b a b b a a) 1, (b b b a a b a a b a) 1, (a a a b a b b b) 10, (b b b a b b b a b) 1, (b b b b b b a b b) 2, (a a a b a) 507, (b b b b b b a a) 2, (a a b b a b a a b) 7, (a b b b b b a a a a a a b b) 1, (b b a a a a a b b a) 1, (b b a a a a a b) 3, (b b b a b b a a b a a) 2, (b a b b a a b b a a b) 1, (b b a b b a a b b) 1, (a a b a b b a a a a) 1, (b b a b a a b b b) 2, (a b a b b a) 122, (a a a b b a a b b a b) 2, (b b b b a) 468, (b b b a b b a) 27, (b a a a b a b b a a a) 1, (a b a b b a b b b b a a) 1, (b a a a b a b a a) 2, (b a a a b b b b b b) 1, (a a a a b b a b a a b) 1, (a a a) 7690, (b a b a a a b b b b b a) 1, (a a b a a a a b) 5, (b a a a b b b b) 7, (a a b a b a a a a a a) 3, (a a a b a a a a b a a) 1, (a b a a b b b) 36, (a b b a a a) 142, (b a b b a) 485, (a b a b a b) 131, (a b b a a b b b a b b b a) 1, (b a a a a b b a b b) 1, (b a b a b a a) 34, (a b a a b a b b b a a) 1, (a a a a b b a a) 5, (a a a b b b b a a b a b b a) 1, (b b a b b a a b) 10, (b a a b b a b a b a b) 1, (b a b a a a b a) 6, (a b a b a a b b) 6, (a a b b b b a a) 8, (b b a a a a a b a a b) 1, (a a a b b a b b a b a b a a) 1, (a b a a b b a b b) 2, (b a b a b a a a b) 5, (b b a b b a a a a b a a) 1, (b a a b b b a a b) 4, (a b b a b a b a b) 2, (a b b a a a b b a b a) 1, (b a b b b a a b b b a b b b) 1, (a b a a a a a a a b a) 1, (b a a a b b b b a a b) 1, (b b a a b a b a a) 2, (a b a a b a b b) 9, (b a b a b a b a a b a) 1, (b a a b a a b a a a a) 1, (b b b a a b b b a b) 1, (a b b a a a a b a b) 1, (a b) 31175, (b a b b a b b b a a) 1, (a a b a a) 461, (b b a b b b b a) 6, (a a b a b b b b a a) 2, (a a a b a a a b a a b a b a) 1, (b a b b b b) 115, (a a a a a b a a) 5, (b b b a b a b b a b) 1, (a b b b b b a) 23, (a b a a a b b a b b a) 1, (b b a b b b b b b) 2, (a b b b b b a b a) 1, (a b b b b a a b a b) 1, (b a a a a a a a a b) 1, (a b b b a b b b a) 2, (a b a b b a b a b) 2, (b a b b b) 499, (b a a a b b b a b) 1, (b a b b a b b a a) 3, (b b b a b b b a a) 2, (a a a a a b a b a) 1, (a b b b a a a b b a b) 1, (a a b b a a) 128, (b a b b b b a a b a) 1, (a b b a a a b b b) 1, (b a a b a a b) 30, (b a b a b b a a a b) 1, (b b a b a a a b a a b) 1, (a b b b a a a b b a b a b) 1, (b a b b a b a a a) 2, (a b b a a a b a a a a a b) 1, (a a b a a b a b b) 5, (a a b b b b b a b a a a a) 1, (b a a b a a a) 25, (b a a a a b a a) 5, (b b a a a b a b b a) 1, (b a b a a b a a a b) 1, (b a b a b a a b a b b b b a b b a) 1, (b b b a b a a b a b) 2, (b a a a b b b b b) 3, (b a b a a b b a b a b) 1, (b b a a a a a a a a) 1, (b) 125021, (a a b b a b a b b b) 2, (b b b b a a a a b b b b) 1, (b b b b b a a b a a) 1, (b b b a a b a b b b) 1, (a a b a b b a b b) 3, (b a a b b a a) 25, (b a a b b a a b a) 2, (a a a a a b a a a a a) 1, (b b b b b b a b a) 2, (a b a a a b b a b) 2, (a b b b a a a a a a) 1, (a a b a a a a b b b a a) 1, (b b b b b a a b) 8, (a b a a a a a b a a) 1, (b a a a a b a b a a) 3, (a a b a a b b b a b) 1, (b a a a a b a) 35, (b b b a b b a a a a a a) 1, (a a a b b b a b a) 2, (b b b b b a b a a) 1, (a b a b b b b b a a) 1, (b a b b b a b a b) 3, (b b b a b a a b a a) 2, (a a a b a b a b b a b) 2, (a a b b a b a a b a a a a a b b a) 1, (a b a a b a a) 28, (b b b a b a a a) 6, (b a a b a a a a a b) 2, (b a b a b a b a a) 2, (b a a b b a) 117, (b b b a a a b a b a a) 1, (a a b b a b a b a) 5, (b a a b a a b a b) 2, (b a b b a a b a a) 3, (a a b b a a b b b b b) 1, (a b b b b b a a a b) 1, (b a a a a b b b a a a a b b) 1, (b b b a a b a a) 7, (b a b a a b a a a) 5, (b a a a b b a a a b) 1, (b b a a b b a b a) 4, (b a a a a b b a b) 1, (a a b a b a a a a a) 1, (a a b a b b a a b b b a a) 1, (b b a b b b b a b b a) 1, (a b b a a b b a) 5, (a b a a b b a b a b) 1, (b a b a b a b a b a a b b b b b) 1, (b b b b b a a a a b b) 1, (a a a b b a a a) 4, (b b b a a a b) 33, (b b a a a a a a) 9, (b b a a a b a a a) 2, (a b a a a b a a b a b a) 1, (a a b b b a) 146, (b a a a b b a b a a b) 1, (b b a a b b b) 29, (a a a b b b a b a b) 2, (b b a b a b a b) 8, (b a a a b a b b b a b a b b) 1, (a b b a a a b) 30, (b a a a b b a a a a b) 2, (b b b a a b a b b a b) 1, (b b b b a b b b a) 1, (b b a a a a b) 28, (a a a a b b b a) 7, (b a a b b b b b b a a b a b) 1, (b b a b a a) 124, (b a b b b b a a) 8, (a a a b a a b a a a a a a) 1, (a a b a b b b a a b b b b b) 1, (b b b a b a a b) 2, (a b b a b a b) 31, (a b b a b b a b a b a a) 1, (a b a b a b a b b) 2, (a a b a a b a b b b b b b a b a b a a a) 1, (b a b a b) 479, (b a b a b b a b) 12, (a b a a a a b b a) 2, (a b b a a b a a a a) 1, (b b b b a b a a b b b) 1, (b b a a a a b a b b b a) 1, (b b b b b a a b a) 7, (b b b a a b b a) 7, (b a a b b b a b b a a b) 1, (b b a a b b a b b a) 1, (a a a a b b a a b a b) 1, (a a b b) 1933, (a a b b b b b) 34, (a b a b b a a b b b b) 1, (a a b b b b b a a) 3, (a a b b b b b b b b) 1, (b b b b a a b a b a) 1, (a a b b a b b a a) 1, (b a a a a b b a b a) 1, (a a a a b b a a b) 1, (b b a a b b a b b b a) 2, (b b a a b b) 124, (b a b a a a b b b) 1, (b b b a a b a a b b b) 1, (a b b b a a b a b a) 1, (b a a b b b a a) 7, (a b b a a b a b a) 1, (a b a b a b b b) 12, (a a b b a a b a a) 1, (a b a a b b a b a) 1, (b a a a a b b a a a) 1, (a b b a b a b a) 5, (a b a a b a a a) 8, (b a a b a a a b) 9, (b a a a b a a b b b) 2, (b b b a b a) 136, (b b a a a b a b a b b b b) 1, (b b a a b b a a a b a b) 1, (a b b b a b b a) 11, (b a a b b a b b a b b b) 1, (a a b b b b a a b b) 2, (b a a a a a b a a) 1, (b a a a b a b b a b) 1, (a a b a b b a a b) 2, (a a b a b b a a a a a) 1, (a b b a a a a b) 6, (a b a b a a a a b) 1, (a a b a a a a b a) 2, (b b a b b a a b a a) 1, (a a a b b a b a b a a) 1, (b a b b b b a a a b b) 1, (a b a b a a) 128, (a b a a b b b a) 8, (b b b b b b b a a b) 2, (a a b b b b a b) 9, (b a b a b a a a b a) 1, (a b a a a) 499, (a b b a a a a b b) 1, (b b a b a a b a b a a) 1, (b b a b b b b) 33, (a a b b b b b a a a) 1, (a a a a a) 417, (a b b b b a a b a) 1, (a a b a a a b a b a b) 2, (a a a a a b a b a b a b a) 1, (a b a b a a b b a) 1, (a b b a a b a a b) 3, (b b a a b b b a) 5, (b a b a a a b a b) 4, (b a b a b b a b a) 2, (b b a b b b b a a b b a a) 1, (a b b b b b b a b b a b) 1, (a a b b a a b b) 5, (b b a a b a a b a) 2, (a b b a a b a b b a b a b) 1, (b a b b a a b b) 15, (b a b a a b a a b a) 1, (a b a b a a a a) 8, (b a b a a b b a a a) 1, (b a b a a b b b b) 3, (b b b b a b b b a a) 1, (a) 124940, (a b b b b b a a a) 1, (a a a a a a b) 36, (a b a b a a a a a b) 2, (b b b b a b b a b b a) 1, (b a b b b a a b a) 2, (a b b b a b) 105, (a a b a b a b a) 7, (a a a b b a a b b b) 1, (a b b b a b b a b) 1, (a a b a b b b b b) 2, (b a a b a b b a b) 1, (a b b a b a a b) 13, (a b a b b a b a a a a a b a) 1, (a b a b b b a b b b a a) 1, (b b a b a a a a a a b a) 1, (b b a b a b b a a a) 1, (b b a a b a b a b) 2, (b a a a b b a a) 3, (b b a b b a a a a b a) 1, (a b b a a b a a a b) 1, (a b a a a a b a a a) 1, (b a a b b a b a a) 2, (b a a b b b b a a b b) 1, (b b a b a a a b b) 3, (b b a a b a b a) 9, (a a b b a b b b a a) 1, (a b b b a a a) 45, (b a a b a a a a) 3, (a a a b a a a a) 5, (a b b b a a b a a a) 2, (a a b a a b a a a a) 2, (a b a a a b a b a) 1, (a b b b b b a b b b b) 1, (b b a b a a b b a a) 3, (a b b b b b b a) 8, (b b a b a b b b b) 2, (b a a b b b a b a b a) 1, (a b a b b b b a b a) 1, (a a a a a a a b a b a) 1, (a a a b a a a a a) 1, (a a a b b a b b b a) 1, (a b a b a b b b b a b) 1, (a b a a b b a b b a a) 1, (b a a a a b a a b) 2, (b b a a a b a a b b a) 1, (b a b a a b b a a) 3, (b b a b a b a a a) 2, (a a a b a b b a a b b) 1, (b a a a a b a b b) 1, (b b a b b a b b b a b a b) 1, (a b b a b a b b a) 1, (b b b a b b b b b) 3, (a a a a a a a b) 11, (b a a b b b a b) 7, (b a b b a a b b b b) 1, (a a a a a a b a b b) 1, (a a a a a a b a a a) 1, (b b a b a b b b b b) 1, (a a a b a b a a a) 1, (a b b a a a b a b) 3, (a a b b a a a b b b b a) 1, (a a a b b a b a b) 3, (a a a a b b b b b) 1, (b a b b b b b b a a b b) 1, (a a b a b a a a a) 1, (a a a b a a b a b b) 1, (b a a b b b b a) 7, (a a a a a b b b a a) 2, (a a a a b a) 113, (a a a b b a a a a b) 1, (a a b a a b a b a b) 2, (a b b b b a a a b a a a a b b) 1, (b a b b b a b b a) 1, (a b a a a a a b b b b a b b b b b) 1, (a a a a b b b b) 9, (a b a a b a b b b b) 1, (a a a a a a a a a a b b) 1, (b a b b b b b a b b a a) 1, (b b b a b b b a a a a b) 1, (a a a a a a b b) 7, (b a a b b b a) 37, (a a a a b b a a b b a) 1, (a b a b a b a b b a a a a) 1, (a b a b a a a b b) 3, (b b a a a b b a b b) 2, (b a b b a a b b b) 2, (b a a a a) 454, (b b b b a a b) 34, (b a b a a b b b b b b) 1, (a b a b a) 447, (a a b a a b a) 27, (b a a b a b b) 33, (b b a b a) 460, (b a b b b b a a b) 4, (a a a b a b b a a a b) 1, (b a a b a b b b b a) 1, (b b b b a b a a a) 2, (b a a b b a b a b) 3, (a b a b b b a b a) 1, (b a a a a b a a a a a) 1, (b a b a a b b b a b) 1, (a b a a a a a a) 9, (b b a b a a b a a b b) 1, (b a a b b a a a a) 1, (a b a a a a b b) 6, (b a b b a a b a a b b) 1, (b a a a b a b b b) 2, (b b a a a a a b a b a) 1, (b b a a b b b b) 7, (b b b a a a) 119, (b b a a a a a b b) 3, (a b b b b b a b b) 1, (a a b a a a b a b) 1, (b a a a b b b) 33, (b a a b b a b a a a) 1, (a b b a b a a b b a a) 1, (b b a b a a b b) 7, (b a b b b b b b b) 2, (b b b a b b b a b a b) 1, (a a b b b a a a b b a a b a a) 1, (b b b a b a a b b) 1, (b a a a b a b b b b) 2, (a a a b b b b a a) 2, (a a b a b b a) 28, (b b a a a a b b a) 4, (b b b a a a a b b a) 2, (a a b b a a a b b) 3, (a b a a b a b b a) 2, (b a a b a a b b b a a) 1, (a b b b) 1889, (a b b b a a a a) 2, (b a b a b b b b b a a) 1, (a a b b b b b a b a) 3, (b a a a a a a a a a) 2, (a a a a a a b a b) 2, (a a a b b a a a b) 4, (b a a b a b a a) 6, (a b b b a a a a b) 4, (a a a b a b a b b b b) 1, (b a b a a a b b a) 1, (a a a a b a a b b) 1, (b a a b b a a a a b) 1, (b a b b b a a b) 8, (b a a a a a b b a) 2, (a a b a a b a b a b b b b) 1, (a a a a b a b b b b a) 1, (a b b a a a b b a) 1, (b a a a b a a b a) 3, (a a b b a a b b a a a a a) 1, (b b a a b a a b a a b a b) 1, (a b b b a a a b) 4, (a b b a b b a b a b) 3, (b b) 31416, (b a a a b a b b b a b) 1, (a b a b a a b b b) 4, (a b b a a a b b b b) 1, (a b b a a b b b a a a b) 1, (b b b a a b a b) 7, (a a a a b a a a) 3, (b b a b b b a a b a) 2, (a a a a a a a a b) 2, (a a a a a a b b a) 2, (b a b a) 1906, (b b b b b b a a b b b) 1, (a a b a a b b b) 7, (b a b b a b b b b) 3, (b a a b a b a b a b) 1, (b b b a b b a a b) 3, (a b b b b b b b) 9, (b b b a a b a a a a b b) 1, (b b a b b a b a) 4, (a a b a a b a a b) 2, (b b a b) 1999, (a a b b b a b b b) 2, (a b b a a a a b b b b) 1, (b b b a b b a b b a b) 1, (b a a a b a a a a) 1, (b b a b a b a a b) 4, (b b a a a a a a a) 3, (b a b a a a a b b) 2, (b b b a b a b b a b a b) 1, (b a a a b b b a a b b) 1, (b b a a b a a b b b b) 1, (a a a b a b a) 30, (a b a b a a b b b a) 2, (a b b a) 1925, (a b b b a b a a b) 1, (a a a b b a a b) 5, (b b a b b b b a b) 2, (a a a a b a a) 37, (b a b a a a a b a) 1, (a b b b b a b b) 10, (a a a a b b a) 26, (a b a b b a b b b a a a a) 1, (a b a a a a a b b a a) 1, (a b b b b b b a b) 2, (a b b a b b a b b a a a b a) 1, (a b b b a a b a a) 1, (b b b a b a b a a a) 1, (a b b a a a a b a a) 1, (a a a a) 2013, (a b a a b b a b b a) 1, (b a a b b a a b b b b b b) 1, (a a a b b a b b a) 1, (b a b a a b b a) 9, (b a b b b b a b a a) 1, (b b a b b b a a) 4, (a a a b b b b a b b) 1, (b a a a b b) 110, (b b a b b a b b a b b) 1, (a b a a b a b a a) 4, (b a b b b b a) 31, (a b b b a b a a a) 2, (a b b a a a a) 36, (a b b a a b a b) 3, (a b b b a a b a) 5, (b a a b a a b b b b b b a b b) 1, (b b a b b a a a) 8, (b b b b a b b a b) 2, (a a b a b a b a a) 1, (a a b b a a a b a) 1, (b a a a b b b a) 3, (b b b b b b b a a a a) 1, (b b b b a b b b b) 3, (a a b b a b b) 20, (a a b b b b) 134, (b b a b a b b b) 6, (b a a b a a b b b) 1, (b a a b b b b b a b) 1, (a a b b a a b b a) 1, (b a a b a b b a) 6, (a a a a a b a b a b) 1, (a b a b b a a b b) 3, (a b a a a b b a a) 1, (a b a a b a) 115, (a a b b a a b b b a b b a b) 1, (b b b b b b a a a a) 1, (a b b b a b a a b a) 2, (a a a a a b b b a a a) 1, (a b b b a b b a b a) 1, (b a b b b a b a b a a) 1, (a a a a a b b a a a b a) 1, (a a a b a b b a) 2, (b b b a a a a a a b b a a a) 1, (b a a b a b a b) 10, (b b a a b b a a a b a) 1, (a a b a b a b a b) 2, (a a b a b a) 141, (a a b b b a a a b a) 1, (a a b a b a a) 25, (a a a b b a a b a b) 1, (a a a a b a a b a b) 1, (b a a a b b b b a b) 1, (a b a b b a b b) 18, (a a b b a a a b b b a a) 1, (b a b b a b b b) 12, (a b a a a a) 118, (a b b a b a a b a) 2, (b a b a b b a b a a a) 1, (b a a b b a b b b) 2, (b a a a b a a b b a b) 1, (a b b a a) 513, (b b b a a b b a a b) 1, (b a b a b b b a b a a b) 1, (a b b b b b a a b b a) 1, (a a b a a a b a a a a) 1, (a a b b a a a a b) 5, (a b b a a a a b b b) 1, (a a b a a b a a a a b a) 1, (a a b a a b a a) 4, (a b b a a b b a a b) 2, (a b a a a b a b b b b) 1, (b b b b a a b b a b) 2, (a a b b b a b a b) 2, (b b b b a a b a) 12, (a a b a b) 496, (b b a b a a a b a a) 1, (a b a b b b) 126, (b a b a b b b a a) 1, (a b b a a b b b a a b) 1, (b b a b a b a a b a) 2, (b b b b b a a a b b) 1, (a a a b a a a a b b b) 1, (a b a a a a a a a) 1, (b a a a a a a b a b b a b b a) 1, (b a b b a a a b a a) 1, (b b a a b a b a a a b) 2, (a a a b a a b a a b) 1, (a b a b b b a a a) 2, (b b a b a b b a b a b) 1, (a a b a b b) 123, (b a a b b b b a a a a b) 1, (a a a b a b a b b a) 1, (b a b a a a a) 31, (b b a b a b b a b) 3, (a a b a a a b b b a a) 1, (a b a a a a a b b a) 1, (a b b b a b a b) 4, (b b a a a a) 130, (a b b b a a b) 23, (b a b b a a a) 29, (b a b b a a a a b a a a a b b) 1, (a b a b a b a) 26, (a b a a a a b b a a a) 1, (b a a b a b a a b a a a) 1, (b a b b a b b a) 5, (a b b b b a b a b) 1, (b b b b b b b a) 4, (b b a a b a b b) 10, (a a b a a b a b b b b b b) 1, (a b a a a a b a b b) 1, (b a b a a b a a b a b) 1, (b b b b a a a b b b a a) 1, (b b a b b b a b a b a) 1, (a a b a b a b b a b) 1}"
      ]
     },
     "execution_count": 87,
     "metadata": {},
     "output_type": "execute_result"
    }
   ],
   "source": [
    "(frequencies (repeatedly 1000000 sample-a*b*))"
   ]
  },
  {
   "cell_type": "markdown",
   "metadata": {},
   "source": [
    "Wow that looks awful! Now lets do the inverse! Implement a scorer. "
   ]
  },
  {
   "cell_type": "code",
   "execution_count": 90,
   "metadata": {},
   "outputs": [
    {
     "data": {
      "text/plain": [
       "(0.03125 0.125)"
      ]
     },
     "execution_count": 90,
     "metadata": {},
     "output_type": "execute_result"
    }
   ],
   "source": [
    "(defn score-a*b* [str]\n",
    "  (if (empty? str)\n",
    "    0.5\n",
    "    (* (if (= (first str) 'a)\n",
    "         0.5\n",
    "         0.5)\n",
    "       (score-a*b* (rest str)))))\n",
    "(list\n",
    "(score-a*b* '(a b a b))\n",
    "(score-ab* '(a b a b)))"
   ]
  },
  {
   "cell_type": "code",
   "execution_count": 91,
   "metadata": {},
   "outputs": [
    {
     "data": {
      "text/plain": [
       "(4.8828125E-4 0)"
      ]
     },
     "execution_count": 91,
     "metadata": {},
     "output_type": "execute_result"
    }
   ],
   "source": [
    "(list\n",
    "(score-a*b* ex-corpus)\n",
    "(score-ab* ex-corpus))"
   ]
  },
  {
   "cell_type": "markdown",
   "metadata": {},
   "source": [
    "Note how much smaller (In some cases zero) {a, b}* models our ex-corpus. This proves that the (ab) model fits our corpus better "
   ]
  }
 ],
 "metadata": {
  "kernelspec": {
   "display_name": "Clojure (clojupyter=0.2.3)",
   "language": "clojure",
   "name": "conda-clojupyter"
  },
  "language_info": {
   "file_extension": ".clj",
   "mimetype": "text/x-clojure",
   "name": "clojure",
   "version": "1.10.1"
  }
 },
 "nbformat": 4,
 "nbformat_minor": 2
}
